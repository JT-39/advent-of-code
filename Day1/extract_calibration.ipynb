{
 "cells": [
  {
   "cell_type": "code",
   "execution_count": 7,
   "metadata": {},
   "outputs": [
    {
     "data": {
      "text/plain": [
       "54953"
      ]
     },
     "execution_count": 7,
     "metadata": {},
     "output_type": "execute_result"
    }
   ],
   "source": [
    "# Load .txt file\n",
    "trebuchet_cals = open(\"trebuchet_calibration.txt\").readlines()\n",
    "\n",
    "# Find first digit\n",
    "list_all_dig = []\n",
    "\n",
    "# Get all digits in each string\n",
    "for n, s in enumerate(trebuchet_cals):\n",
    "    digits = []\n",
    "\n",
    "    for i, c in enumerate(s):\n",
    "\n",
    "        if c.isdigit():\n",
    "            digits.append(c)\n",
    "\n",
    "    list_all_dig.append(digits)\n",
    "\n",
    "# Keep first and last dig and add as str\n",
    "list_cal_val = []\n",
    "\n",
    "for n, s in enumerate(list_all_dig):\n",
    "\n",
    "    if len(list_all_dig[n]):\n",
    "        concat_val = list_all_dig[n][0] + list_all_dig[n][-1]\n",
    "        list_cal_val.append(concat_val)\n",
    "        \n",
    "# Convert numeric\n",
    "list_cal_val = list(map(int, list_cal_val))\n",
    "    \n",
    "# Sum all values to get Trebuchet calibration\n",
    "sum(list_cal_val)\n"
   ]
  },
  {
   "cell_type": "code",
   "execution_count": null,
   "metadata": {},
   "outputs": [],
   "source": []
  }
 ],
 "metadata": {
  "kernelspec": {
   "display_name": "Python 3",
   "language": "python",
   "name": "python3"
  },
  "language_info": {
   "codemirror_mode": {
    "name": "ipython",
    "version": 3
   },
   "file_extension": ".py",
   "mimetype": "text/x-python",
   "name": "python",
   "nbconvert_exporter": "python",
   "pygments_lexer": "ipython3",
   "version": "3.11.4"
  }
 },
 "nbformat": 4,
 "nbformat_minor": 2
}
